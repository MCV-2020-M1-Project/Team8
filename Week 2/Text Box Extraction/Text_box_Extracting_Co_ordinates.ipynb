{
  "nbformat": 4,
  "nbformat_minor": 0,
  "metadata": {
    "accelerator": "GPU",
    "colab": {
      "name": "Text box Extracting Co-ordinates.ipynb",
      "provenance": [],
      "collapsed_sections": []
    },
    "kernelspec": {
      "display_name": "Python 3",
      "name": "python3"
    }
  },
  "cells": [
    {
      "cell_type": "code",
      "metadata": {
        "id": "GHDKwcGY2DU5",
        "outputId": "c81f92d0-42ee-4364-ba27-6efe43693b79",
        "colab": {
          "base_uri": "https://localhost:8080/",
          "height": 457
        }
      },
      "source": [
        "!pip install easyocr"
      ],
      "execution_count": null,
      "outputs": [
        {
          "output_type": "stream",
          "text": [
            "Collecting easyocr\n",
            "\u001b[?25l  Downloading https://files.pythonhosted.org/packages/34/49/c0bc96969a7f8167fb0478e50ad3f5ad2c6d93c99e20dc82875e92e0d783/easyocr-1.1.10-py3-none-any.whl (48.9MB)\n",
            "\u001b[K     |████████████████████████████████| 48.9MB 62kB/s \n",
            "\u001b[?25hCollecting python-bidi\n",
            "  Downloading https://files.pythonhosted.org/packages/33/b0/f942d146a2f457233baaafd6bdf624eba8e0f665045b4abd69d1b62d097d/python_bidi-0.4.2-py2.py3-none-any.whl\n",
            "Requirement already satisfied: numpy in /usr/local/lib/python3.6/dist-packages (from easyocr) (1.18.5)\n",
            "Requirement already satisfied: Pillow in /usr/local/lib/python3.6/dist-packages (from easyocr) (7.0.0)\n",
            "Requirement already satisfied: opencv-python in /usr/local/lib/python3.6/dist-packages (from easyocr) (4.1.2.30)\n",
            "Requirement already satisfied: scikit-image in /usr/local/lib/python3.6/dist-packages (from easyocr) (0.16.2)\n",
            "Requirement already satisfied: torchvision>=0.5 in /usr/local/lib/python3.6/dist-packages (from easyocr) (0.7.0+cu101)\n",
            "Requirement already satisfied: scipy in /usr/local/lib/python3.6/dist-packages (from easyocr) (1.4.1)\n",
            "Requirement already satisfied: torch in /usr/local/lib/python3.6/dist-packages (from easyocr) (1.6.0+cu101)\n",
            "Requirement already satisfied: six in /usr/local/lib/python3.6/dist-packages (from python-bidi->easyocr) (1.15.0)\n",
            "Requirement already satisfied: networkx>=2.0 in /usr/local/lib/python3.6/dist-packages (from scikit-image->easyocr) (2.5)\n",
            "Requirement already satisfied: matplotlib!=3.0.0,>=2.0.0 in /usr/local/lib/python3.6/dist-packages (from scikit-image->easyocr) (3.2.2)\n",
            "Requirement already satisfied: imageio>=2.3.0 in /usr/local/lib/python3.6/dist-packages (from scikit-image->easyocr) (2.4.1)\n",
            "Requirement already satisfied: PyWavelets>=0.4.0 in /usr/local/lib/python3.6/dist-packages (from scikit-image->easyocr) (1.1.1)\n",
            "Requirement already satisfied: future in /usr/local/lib/python3.6/dist-packages (from torch->easyocr) (0.16.0)\n",
            "Requirement already satisfied: decorator>=4.3.0 in /usr/local/lib/python3.6/dist-packages (from networkx>=2.0->scikit-image->easyocr) (4.4.2)\n",
            "Requirement already satisfied: python-dateutil>=2.1 in /usr/local/lib/python3.6/dist-packages (from matplotlib!=3.0.0,>=2.0.0->scikit-image->easyocr) (2.8.1)\n",
            "Requirement already satisfied: kiwisolver>=1.0.1 in /usr/local/lib/python3.6/dist-packages (from matplotlib!=3.0.0,>=2.0.0->scikit-image->easyocr) (1.2.0)\n",
            "Requirement already satisfied: cycler>=0.10 in /usr/local/lib/python3.6/dist-packages (from matplotlib!=3.0.0,>=2.0.0->scikit-image->easyocr) (0.10.0)\n",
            "Requirement already satisfied: pyparsing!=2.0.4,!=2.1.2,!=2.1.6,>=2.0.1 in /usr/local/lib/python3.6/dist-packages (from matplotlib!=3.0.0,>=2.0.0->scikit-image->easyocr) (2.4.7)\n",
            "Installing collected packages: python-bidi, easyocr\n",
            "Successfully installed easyocr-1.1.10 python-bidi-0.4.2\n"
          ],
          "name": "stdout"
        }
      ]
    },
    {
      "cell_type": "code",
      "metadata": {
        "id": "hshZSRPFoRi1"
      },
      "source": [
        "import easyocr"
      ],
      "execution_count": null,
      "outputs": []
    },
    {
      "cell_type": "code",
      "metadata": {
        "id": "NwunsTTaYxpJ",
        "outputId": "0bdc8598-9bf2-4194-c107-cb48182d4c11",
        "colab": {
          "base_uri": "https://localhost:8080/",
          "height": 50
        }
      },
      "source": [
        "reader = easyocr.Reader(['en'])"
      ],
      "execution_count": null,
      "outputs": [
        {
          "output_type": "stream",
          "text": [
            "Downloading detection model, please wait. This may take several minutes depending upon your network connection.\n"
          ],
          "name": "stderr"
        },
        {
          "output_type": "stream",
          "text": [
            ""
          ],
          "name": "stdout"
        },
        {
          "output_type": "stream",
          "text": [
            "Downloading recognition model, please wait. This may take several minutes depending upon your network connection.\n"
          ],
          "name": "stderr"
        },
        {
          "output_type": "stream",
          "text": [
            ""
          ],
          "name": "stdout"
        }
      ]
    },
    {
      "cell_type": "code",
      "metadata": {
        "id": "F2QVmXb6V2Co"
      },
      "source": [
        "import matplotlib.pyplot as plt\n",
        "import cv2\n",
        "import easyocr\n",
        "from pylab import rcParams\n",
        "from IPython.display import Image\n"
      ],
      "execution_count": null,
      "outputs": []
    },
    {
      "cell_type": "code",
      "metadata": {
        "id": "kEk0gx2VjxB9"
      },
      "source": [
        "from google.colab.patches import cv2_imshow"
      ],
      "execution_count": null,
      "outputs": []
    },
    {
      "cell_type": "code",
      "metadata": {
        "id": "AP_v1-JiSqx_",
        "outputId": "6bcfb9a9-94ab-4104-8644-c3e3a66524ec",
        "colab": {
          "base_uri": "https://localhost:8080/",
          "height": 34
        }
      },
      "source": [
        "import glob\n",
        "from PIL import Image\n",
        "files = glob.glob(\"*.jpg\")\n",
        "print(len(files))\n",
        "files = sorted(files)"
      ],
      "execution_count": null,
      "outputs": [
        {
          "output_type": "stream",
          "text": [
            "30\n"
          ],
          "name": "stdout"
        }
      ]
    },
    {
      "cell_type": "code",
      "metadata": {
        "id": "h-4kdOGxTR9k",
        "outputId": "113b6253-dff5-4083-ab29-5ff5b0ff8849",
        "colab": {
          "base_uri": "https://localhost:8080/",
          "height": 54
        }
      },
      "source": [
        "print(files)"
      ],
      "execution_count": null,
      "outputs": [
        {
          "output_type": "stream",
          "text": [
            "['00000.jpg', '00001.jpg', '00002.jpg', '00003.jpg', '00004.jpg', '00005.jpg', '00006.jpg', '00007.jpg', '00008.jpg', '00009.jpg', '00010.jpg', '00011.jpg', '00012.jpg', '00013.jpg', '00014.jpg', '00015.jpg', '00016.jpg', '00017.jpg', '00018.jpg', '00019.jpg', '00020.jpg', '00021.jpg', '00022.jpg', '00023.jpg', '00024.jpg', '00025.jpg', '00026.jpg', '00027.jpg', '00028.jpg', '00029.jpg']\n"
          ],
          "name": "stdout"
        }
      ]
    },
    {
      "cell_type": "code",
      "metadata": {
        "id": "4DqrxQzdWIU1",
        "outputId": "db8ab34e-01ee-42e5-eaaf-0ed6febb70e8",
        "colab": {
          "base_uri": "https://localhost:8080/",
          "height": 538
        }
      },
      "source": [
        "from IPython.display import Image\n",
        "\n",
        "output1 = []\n",
        "for i in range(0, len(files)):\n",
        "    file_name = files[i]\n",
        "    print(file_name)\n",
        "    output = reader.readtext(file_name)\n",
        "    output1.append(output)\n",
        "\n",
        "print(len(output1))\n",
        "#file_name = \"00004.jpg\"\n",
        "#image = Image(file_name)"
      ],
      "execution_count": null,
      "outputs": [
        {
          "output_type": "stream",
          "text": [
            "00000.jpg\n",
            "00001.jpg\n",
            "00002.jpg\n",
            "00003.jpg\n",
            "00004.jpg\n",
            "00005.jpg\n",
            "00006.jpg\n",
            "00007.jpg\n",
            "00008.jpg\n",
            "00009.jpg\n",
            "00010.jpg\n",
            "00011.jpg\n",
            "00012.jpg\n",
            "00013.jpg\n",
            "00014.jpg\n",
            "00015.jpg\n",
            "00016.jpg\n",
            "00017.jpg\n",
            "00018.jpg\n",
            "00019.jpg\n",
            "00020.jpg\n",
            "00021.jpg\n",
            "00022.jpg\n",
            "00023.jpg\n",
            "00024.jpg\n",
            "00025.jpg\n",
            "00026.jpg\n",
            "00027.jpg\n",
            "00028.jpg\n",
            "00029.jpg\n",
            "30\n"
          ],
          "name": "stdout"
        }
      ]
    },
    {
      "cell_type": "code",
      "metadata": {
        "id": "uxa7T2chTkTW"
      },
      "source": [
        "cordin = []\n",
        "f11 = []\n",
        "f22 = []\n",
        "\n",
        "for l in range(0, len(output1)):\n",
        "    fname = files[l]\n",
        "    image = cv2.imread(fname)\n",
        "\n",
        "    f1 = []\n",
        "    f2 = []\n",
        "\n",
        "    for j in range(0, len(output1[l])):\n",
        "        cord = output1[l][j][0]\n",
        "        x1, y1 = [int(max(idx)) for idx in zip(*cord)]\n",
        "        x2, y2 = [int(min(idx)) for idx in zip(*cord)]\n",
        "        a, b, c = image[y1][x1][0], image[y1][x1][1], image[y1][x1][2]\n",
        "        a1, b1, c1 = image[y2][x2][0], image[y2][x2][1], image[y2][x2][2]\n",
        "        if (len(f1)==0):\n",
        "            f1.append([a,b,c,a1,b1,c1])\n",
        "            f2.append([x2, y2, x1, y1])\n",
        "            x_max = x1\n",
        "            y_max = y1\n",
        "            x_min = x2\n",
        "            y_min = y2\n",
        "        else:\n",
        "            x1, y1 = [int(max(idx)) for idx in zip(*cord)]\n",
        "            x2, y2 = [int(min(idx)) for idx in zip(*cord)]\n",
        "            a2, b2, c2 = image[y1][x1][0], image[y1][x1][1], image[y1][x1][2]\n",
        "            a3, b3, c3 = image[y2][x2][0], image[y2][x2][1], image[y2][x2][2]\n",
        "            flag = 0\n",
        "            for i in range(0, len(f1)):\n",
        "                a, b, c, a1, b1, c1 = f1[i]\n",
        "                x_min, y_min, x_max, y_max = f2[i]\n",
        "                if (((abs(int(a2) - int(a))) < 10 and (abs(int(b2) - int(b))) < 10 and (abs(int(c2) - int(c))) < 10) or ((abs(int(a3) - int(a1))) < 10 and (abs(int(b3) - int(b1))) < 10 and (abs(int(c3) - int(c1))) < 10)):\n",
        "                    flag = 1\n",
        "                    if (x1 > x_max):\n",
        "                        x_max = x1\n",
        "                    if (y1 > y_max):\n",
        "                        y_max = y1 \n",
        "                    if (x2 < x_min):\n",
        "                        x_min = x2\n",
        "                    if (y2 < y_min):\n",
        "                        y_min = y2\n",
        "                    f2[i][0] = x_min\n",
        "                    f2[i][1] = y_min\n",
        "                    f2[i][2] = x_max\n",
        "                    f2[i][3] = y_max\n",
        "                    break\n",
        "            if (flag == 0):\n",
        "                f1.append([a2, b2, c2, a3, b3, c3])\n",
        "                f2.append([x2, y2, x1, y1])\n",
        "\n",
        "    f22.append(f2)  \n"
      ],
      "execution_count": null,
      "outputs": []
    },
    {
      "cell_type": "code",
      "metadata": {
        "id": "Lvdm_yzBWr-9"
      },
      "source": [
        "import numpy as np\n",
        "y_pred = []\n",
        "for i in range(0, len(files)):\n",
        "  if(i!=7 or i!=23):\n",
        "    im = cv2.imread(files[i], 0)\n",
        "    a1 = np.zeros((im.shape[0], im.shape[1]))\n",
        "    for k in range(0, len(f22[i])):\n",
        "        x_min, y_min, x_max, y_max = f22[i][k]\n",
        "        for i1 in range(x_min, x_max):\n",
        "            for j1 in range(y_min, y_max):\n",
        "              a1[j1][i1] = 255\n",
        "    y_pred.append(a1)"
      ],
      "execution_count": null,
      "outputs": []
    },
    {
      "cell_type": "code",
      "metadata": {
        "id": "vnNpr_92WsE1"
      },
      "source": [
        ""
      ],
      "execution_count": null,
      "outputs": []
    },
    {
      "cell_type": "code",
      "metadata": {
        "id": "z8iU-5Islpnl"
      },
      "source": [
        ""
      ],
      "execution_count": null,
      "outputs": []
    },
    {
      "cell_type": "code",
      "metadata": {
        "id": "a4hKX2kWlp0s"
      },
      "source": [
        ""
      ],
      "execution_count": null,
      "outputs": []
    },
    {
      "cell_type": "code",
      "metadata": {
        "id": "lGmW4C9SW-_o",
        "outputId": "93fdcdd5-0941-4ba1-99ac-66f42aa15609",
        "colab": {
          "base_uri": "https://localhost:8080/",
          "height": 34
        }
      },
      "source": [
        "import pickle\n",
        "a11 = pickle.load( open( \"text_boxes.pkl\", \"rb\" ) )\n",
        "print(len(a11[0]))"
      ],
      "execution_count": null,
      "outputs": [
        {
          "output_type": "stream",
          "text": [
            "2\n"
          ],
          "name": "stdout"
        }
      ]
    },
    {
      "cell_type": "code",
      "metadata": {
        "id": "2557Ggj5XIEi"
      },
      "source": [
        "## For QSD-1 W1\n",
        "\n",
        "y_truth = []\n",
        "for i in range(0, len(files)):\n",
        "  if(i!=7 or i!=23):\n",
        "    im = cv2.imread(files[i], 0)\n",
        "    a, b = im.shape\n",
        "    a1 = np.zeros((im.shape[0], im.shape[1]))\n",
        "    for k in range(0, len(a11[i])):\n",
        "        x_min, y_min, x_max, y_max = a11[i][k]\n",
        "        for i1 in range(int(x_min), x_max):\n",
        "            for j1 in range(y_min, y_max):\n",
        "                a1[j1][i1] = 255\n",
        "    y_truth.append(a1)"
      ],
      "execution_count": null,
      "outputs": []
    },
    {
      "cell_type": "code",
      "metadata": {
        "id": "NmpxK24pbwwc",
        "outputId": "09ce41cb-a3d6-40cf-e6e8-4d60465d2a8d",
        "colab": {
          "base_uri": "https://localhost:8080/",
          "height": 34
        }
      },
      "source": [
        "iou = []\n",
        "for i in range(0, len(y_pred)):\n",
        "    ax = y_pred[i]\n",
        "    bx = y_truth[i]\n",
        "    tp = np.sum(np.logical_and(bx == 255, ax == 255))\n",
        "    fn = np.sum(np.logical_and(bx == 0, ax == 255))\n",
        "    fp = np.sum(np.logical_and(bx == 255, ax == 0))\n",
        "    iou.append([tp/(tp + fn + fp)])\n",
        "print(np.mean(iou))"
      ],
      "execution_count": null,
      "outputs": [
        {
          "output_type": "stream",
          "text": [
            "0.7278499048375191\n"
          ],
          "name": "stdout"
        }
      ]
    },
    {
      "cell_type": "code",
      "metadata": {
        "id": "8tQiZ4BqfTWT"
      },
      "source": [
        ""
      ],
      "execution_count": null,
      "outputs": []
    },
    {
      "cell_type": "code",
      "metadata": {
        "id": "HrkVGR_RV-tA"
      },
      "source": [
        ""
      ],
      "execution_count": null,
      "outputs": []
    },
    {
      "cell_type": "code",
      "metadata": {
        "id": "TD3l96zoadzd"
      },
      "source": [
        ""
      ],
      "execution_count": null,
      "outputs": []
    }
  ]
}