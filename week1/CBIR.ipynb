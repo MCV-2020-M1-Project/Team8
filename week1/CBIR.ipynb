{
 "cells": [
  {
   "cell_type": "code",
   "execution_count": null,
   "metadata": {},
   "outputs": [],
   "source": [
    "import os\n",
    "import pickle\n",
    "import numpy as np\n",
    "import cv2 as cv\n",
    "\n",
    "import matplotlib.pyplot as plt\n",
    "import matplotlib.image as mpimg\n",
    "\n",
    "from metrics import compute_distance\n",
    "from histograms import compute_descriptor \n",
    "import evaluation\n",
    "import utils\n",
    "\n",
    "%matplotlib inline"
   ]
  },
  {
   "cell_type": "code",
   "execution_count": null,
   "metadata": {},
   "outputs": [],
   "source": [
    "dataset_dir = \"{}/BBDD\".format(os.getcwd()) # dataset path\n",
    "queryset_dir = \"{}/qsd1_w1\".format(os.getcwd()) # query set path\n",
    "# testset_dir = \"{}/qst1_w1\".format(os.getcwd()) # test set path\n",
    "database_dir = \"{}/database\".format(os.getcwd()) # database path\n",
    "result_dir = \"{}/results\".format(os.getcwd()) ## result path\n",
    "\n",
    "\"\"\"\n",
    "Available descriptors:\n",
    "    - gray_histogram,\n",
    "    - hsv_1d_histogram,\n",
    "    - rgb_1d_histogram\n",
    "    - ycrcb_1d_histogram,\n",
    "    - lab_1d_histogram\n",
    "    - hsv_3d_histogram,\n",
    "    - rgb_3d_histogram,\n",
    "    - ycrcb_3d_histogram,\n",
    "    - lab_3d_histogram\n",
    "\n",
    "Available metrics:\n",
    "    - cosine,\n",
    "    - euclidean,\n",
    "    - hellinger_kernel,\n",
    "    - chi_square,\n",
    "    - correlation,\n",
    "    - intersection\n",
    "\"\"\"\n",
    "metric = 'euclidean'\n",
    "descriptor = 'ycrcb_3d_histogram' \n",
    "\n",
    "k = 10\n",
    "\n",
    "results = []\n",
    "# ground_truth = utils.load_pickle('gt_corresps_2.pkl')\n",
    "ground_truth = [[276], [272], [155], [22], [157], [23], [250], [110], [215], [280], [192], [184], [77], [258], [100], [155], [92], [225], [130], [251], [120], [203], [91], [186], [52], [262], [227], [53], [142], [32]]\n",
    "histograms = utils.load_database(descriptor, dataset_dir, database_dir)\n",
    "\n",
    "query_set = [fname for fname in sorted(os.listdir(queryset_dir)) if fname.endswith(\".jpg\")]\n",
    "for idx, query in enumerate(query_set):\n",
    "    print(\"Query {}: {}, ground-truth: {}\".format(idx, query, str(ground_truth[idx][0]).zfill(5)))\n",
    "       \n",
    "    query_hist = compute_descriptor(descriptor, os.path.join(queryset_dir, query))\n",
    "    \n",
    "    k_nearest = utils.k_nearest_search(histograms, query_hist, ground_truth[idx][0], metric, k)\n",
    "    \n",
    "    print(\"{}-most similar images:\".format(k))\n",
    "    result = []\n",
    "    for i, image in enumerate(k_nearest):\n",
    "        print(\"{}. {}.jpg, score = {}\".format(i + 1, str(image[-1]).zfill(5), image[0]))\n",
    "        result.append(image[-1])\n",
    "        if i == k - 1:\n",
    "            results.append(result)   \n",
    "    print(\"==================================\")\n",
    "print(results)    \n",
    "utils.save_pickle(result_dir + '/result_' + descriptor + '_top' + str(k) + '.pkl', results)\n",
    "print(evaluation.mapk(ground_truth, results, k))"
   ]
  },
  {
   "cell_type": "code",
   "execution_count": null,
   "metadata": {},
   "outputs": [],
   "source": [
    "\"\"\"\n",
    "Compute the ratio of correct prediction to see how well it works\n",
    "\"\"\"\n",
    "count = 0\n",
    "for i, (a,b) in enumerate(zip(ground_truth, results)):\n",
    "    if a[0] in b:\n",
    "        print(\"OK\".format(i))\n",
    "        count += 1\n",
    "    else:\n",
    "        print(\"Not OK\".format(i))\n",
    "print(\"{}/30\". format(count))    "
   ]
  }
 ],
 "metadata": {
  "kernelspec": {
   "display_name": "Python 2",
   "language": "python",
   "name": "python2"
  },
  "language_info": {
   "codemirror_mode": {
    "name": "ipython",
    "version": 2
   },
   "file_extension": ".py",
   "mimetype": "text/x-python",
   "name": "python",
   "nbconvert_exporter": "python",
   "pygments_lexer": "ipython2",
   "version": "2.7.18"
  }
 },
 "nbformat": 4,
 "nbformat_minor": 2
}
